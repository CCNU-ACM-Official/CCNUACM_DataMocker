{
 "cells": [
  {
   "cell_type": "code",
   "execution_count": 1,
   "metadata": {
    "pycharm": {
     "is_executing": true
    }
   },
   "outputs": [
    {
     "name": "stdout",
     "output_type": "stream",
     "text": [
      "Defaulting to user installation because normal site-packages is not writeable\n",
      "Obtaining file:///home/xjx/workspace/CCNUACM_DataMocker\n",
      "  Preparing metadata (setup.py) ... \u001b[?25ldone\n",
      "\u001b[?25hRequirement already satisfied: numpy in /home/xjx/.local/lib/python3.10/site-packages (from ccnuacm-datamocker==0.0.1) (1.26.4)\n",
      "Installing collected packages: ccnuacm-datamocker\n",
      "  Attempting uninstall: ccnuacm-datamocker\n",
      "    Found existing installation: ccnuacm-datamocker 0.0.1\n",
      "    Uninstalling ccnuacm-datamocker-0.0.1:\n",
      "      Successfully uninstalled ccnuacm-datamocker-0.0.1\n",
      "  Running setup.py develop for ccnuacm-datamocker\n",
      "Successfully installed ccnuacm-datamocker-0.0.1\n"
     ]
    }
   ],
   "source": [
    "!pip3 install -e../ -U\n",
    "# !pip3 install ccnuacm_datamocker -U"
   ]
  },
  {
   "cell_type": "code",
   "execution_count": 2,
   "metadata": {
    "pycharm": {
     "is_executing": true
    }
   },
   "outputs": [],
   "source": [
    "from ccnuacm_datamocker.data_model import *\n",
    "import ccnuacm_datamocker as dm"
   ]
  },
  {
   "cell_type": "code",
   "execution_count": 3,
   "metadata": {
    "collapsed": false,
    "jupyter": {
     "outputs_hidden": false
    }
   },
   "outputs": [
    {
     "name": "stdout",
     "output_type": "stream",
     "text": [
      "[INFO] [2024-04-10 08:37:20] - __init__.py:8 - Setting random seed to `751`\n",
      "[INFO] [2024-04-10 08:37:20] - context.py:73 - Setting work directory to `/home/xjx/workspace/CCNUACM_DataMocker/examples`.\n"
     ]
    }
   ],
   "source": [
    "dm.set_seed(751)\n",
    "dm.set_work_dir(\".\")"
   ]
  },
  {
   "cell_type": "code",
   "execution_count": 4,
   "metadata": {
    "collapsed": false,
    "jupyter": {
     "outputs_hidden": false
    }
   },
   "outputs": [
    {
     "name": "stdout",
     "output_type": "stream",
     "text": [
      "[INFO] [2024-04-10 08:37:20] - dataset.py:67 - Compiling `/home/xjx/workspace/CCNUACM_DataMocker/examples/P751.cpp` with command: `g++ -o /home/xjx/workspace/CCNUACM_DataMocker/examples/exec/P751 -O2 -std=c++17  /home/xjx/workspace/CCNUACM_DataMocker/examples/P751.cpp`.\n",
      "[INFO] [2024-04-10 08:37:21] - dataset.py:71 - Compiling `/home/xjx/workspace/CCNUACM_DataMocker/examples/P751.cpp` succeed.\n",
      "[INFO] [2024-04-10 08:37:21] - context.py:97 - Clearing directory `/home/xjx/workspace/CCNUACM_DataMocker/examples/tmp/P751`.\n",
      "[INFO] [2024-04-10 08:37:21] - dataset.py:79 - Generating case: 1...\n",
      "[INFO] [2024-04-10 08:37:21] - dataset.py:82 - Generating infile `/home/xjx/workspace/CCNUACM_DataMocker/examples/tmp/P751/1.in` succeed.\n",
      "[INFO] [2024-04-10 08:37:21] - dataset.py:83 - Generating outfile using command: `/home/xjx/workspace/CCNUACM_DataMocker/examples/exec/P751 < /home/xjx/workspace/CCNUACM_DataMocker/examples/tmp/P751/1.in > /home/xjx/workspace/CCNUACM_DataMocker/examples/tmp/P751/1.out`.\n",
      "[INFO] [2024-04-10 08:37:21] - dataset.py:86 - Generating outfile `/home/xjx/workspace/CCNUACM_DataMocker/examples/tmp/P751/1.out` succeed.\n",
      "[INFO] [2024-04-10 08:37:21] - dataset.py:79 - Generating case: 2...\n",
      "[INFO] [2024-04-10 08:37:21] - dataset.py:82 - Generating infile `/home/xjx/workspace/CCNUACM_DataMocker/examples/tmp/P751/2.in` succeed.\n",
      "[INFO] [2024-04-10 08:37:21] - dataset.py:83 - Generating outfile using command: `/home/xjx/workspace/CCNUACM_DataMocker/examples/exec/P751 < /home/xjx/workspace/CCNUACM_DataMocker/examples/tmp/P751/2.in > /home/xjx/workspace/CCNUACM_DataMocker/examples/tmp/P751/2.out`.\n",
      "[INFO] [2024-04-10 08:37:21] - dataset.py:86 - Generating outfile `/home/xjx/workspace/CCNUACM_DataMocker/examples/tmp/P751/2.out` succeed.\n",
      "[INFO] [2024-04-10 08:37:21] - dataset.py:87 - All cases generated. Start zipping `P751.zip`...\n",
      "[INFO] [2024-04-10 08:37:21] - dataset.py:99 - All cases zipped, result: `/home/xjx/workspace/CCNUACM_DataMocker/examples/zip/P751.zip`. 2 cases, 4 files in total.\n"
     ]
    }
   ],
   "source": [
    "ds = DataSet(name=\"P751\", std_path=\"P751.cpp\")\n",
    "\n",
    "ds.add(Sequence(LowercaseCharSet() + DigitCharSet(), length=10, sep=''))\n",
    "ds.add(Sequence(BinaryCharSet(), length=10, sep=' '))\n",
    "\n",
    "ds.run()"
   ]
  },
  {
   "cell_type": "code",
   "execution_count": null,
   "metadata": {},
   "outputs": [],
   "source": []
  }
 ],
 "metadata": {
  "kernelspec": {
   "display_name": "Python 3 (ipykernel)",
   "language": "python",
   "name": "python3"
  },
  "language_info": {
   "codemirror_mode": {
    "name": "ipython",
    "version": 3
   },
   "file_extension": ".py",
   "mimetype": "text/x-python",
   "name": "python",
   "nbconvert_exporter": "python",
   "pygments_lexer": "ipython3",
   "version": "3.10.12"
  }
 },
 "nbformat": 4,
 "nbformat_minor": 4
}
