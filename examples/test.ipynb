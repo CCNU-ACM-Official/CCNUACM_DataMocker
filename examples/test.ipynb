{
 "cells": [
  {
   "cell_type": "code",
   "execution_count": null,
   "metadata": {
    "pycharm": {
     "is_executing": true
    }
   },
   "outputs": [
    {
     "name": "stdout",
     "output_type": "stream",
     "text": [
      "Defaulting to user installation because normal site-packages is not writeable\n",
      "Obtaining file:///home/xjx/workspace/CCNUACM_DataMocker\n",
      "  Preparing metadata (setup.py) ... \u001B[?25ldone\n",
      "\u001B[?25hCollecting numpy (from ccnuacm-datamocker==0.0.1)\n"
     ]
    }
   ],
   "source": [
    "!pip3 install -e../ -U --force-reinstall\n",
    "# !pip3 install ccnuacm_datamocker -U --force-reinstall"
   ]
  },
  {
   "cell_type": "code",
   "execution_count": 2,
   "metadata": {
    "pycharm": {
     "is_executing": true
    }
   },
   "outputs": [],
   "source": [
    "from ccnuacm_datamocker.data_model import *\n",
    "import ccnuacm_datamocker as dm"
   ]
  },
  {
   "cell_type": "code",
   "execution_count": 3,
   "metadata": {
    "collapsed": false,
    "jupyter": {
     "outputs_hidden": false
    }
   },
   "outputs": [],
   "source": [
    "dm.set_seed(114514)\n",
    "dm.set_work_dir(\"/tmp/datamocker\")\n",
    "dm.set_std_path(\"$/std.cpp\")"
   ]
  },
  {
   "cell_type": "code",
   "execution_count": 4,
   "metadata": {
    "collapsed": false,
    "jupyter": {
     "outputs_hidden": false
    }
   },
   "outputs": [
    {
     "name": "stdout",
     "output_type": "stream",
     "text": [
      "[INFO] [2024-04-09 09:05:22] - cases.py:40 - Compiling `/tmp/datamocker/std.cpp`...\n",
      "[INFO] [2024-04-09 09:05:23] - cases.py:46 - Compiling `/tmp/datamocker/std.cpp` succeed.\n",
      "[INFO] [2024-04-09 09:05:23] - context.py:109 - Clearing output directory `/tmp/datamocker/output`.\n",
      "[INFO] [2024-04-09 09:05:23] - cases.py:53 - Generating case: 1...\n",
      "[INFO] [2024-04-09 09:05:23] - cases.py:56 - Generating infile `/tmp/datamocker/output/1.in` succeed.\n",
      "[INFO] [2024-04-09 09:05:23] - cases.py:59 - Generating outfile `/tmp/datamocker/output/1.out` succeed.\n",
      "[INFO] [2024-04-09 09:05:23] - cases.py:53 - Generating case: 2...\n",
      "[INFO] [2024-04-09 09:05:23] - cases.py:56 - Generating infile `/tmp/datamocker/output/2.in` succeed.\n",
      "[INFO] [2024-04-09 09:05:23] - cases.py:59 - Generating outfile `/tmp/datamocker/output/2.out` succeed.\n",
      "[INFO] [2024-04-09 09:05:23] - cases.py:60 - All cases generated. Start zipping `result.zip`...\n",
      "[INFO] [2024-04-09 09:05:23] - cases.py:72 - All cases zipped, result: `/tmp/datamocker/result.zip`. 2 cases, 4 files in total.\n"
     ]
    }
   ],
   "source": [
    "cases = Cases(zip_name=\"result.zip\")\n",
    "\n",
    "cases.add(Sequence(LowercaseCharSet() + DigitCharSet(), length=10, sep=''))\n",
    "cases.add(Sequence(BinaryCharSet(), length=10, sep=' '))\n",
    "\n",
    "cases.run()"
   ]
  },
  {
   "cell_type": "code",
   "execution_count": null,
   "metadata": {},
   "outputs": [],
   "source": []
  }
 ],
 "metadata": {
  "kernelspec": {
   "display_name": "Python 3 (ipykernel)",
   "language": "python",
   "name": "python3"
  },
  "language_info": {
   "codemirror_mode": {
    "name": "ipython",
    "version": 3
   },
   "file_extension": ".py",
   "mimetype": "text/x-python",
   "name": "python",
   "nbconvert_exporter": "python",
   "pygments_lexer": "ipython3",
   "version": "3.10.12"
  }
 },
 "nbformat": 4,
 "nbformat_minor": 4
}
