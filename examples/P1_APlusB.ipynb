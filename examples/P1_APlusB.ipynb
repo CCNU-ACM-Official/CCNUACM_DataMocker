{
 "cells": [
  {
   "cell_type": "code",
   "execution_count": 1,
   "metadata": {
    "ExecuteTime": {
     "end_time": "2024-04-14T20:58:50.484417Z",
     "start_time": "2024-04-14T20:58:50.412305Z"
    }
   },
   "outputs": [],
   "source": [
    "import ccnuacm_datamocker as dm\n",
    "from ccnuacm_datamocker.data_model import *"
   ]
  },
  {
   "cell_type": "code",
   "execution_count": 2,
   "metadata": {
    "ExecuteTime": {
     "end_time": "2024-04-14T20:58:50.750595Z",
     "start_time": "2024-04-14T20:58:50.726077Z"
    },
    "collapsed": false,
    "jupyter": {
     "outputs_hidden": false
    }
   },
   "outputs": [
    {
     "name": "stdout",
     "output_type": "stream",
     "text": [
      "[INFO] [2024-04-14 23:22:19] - __init__.py:8 - Setting random seed to `0`\n",
      "[INFO] [2024-04-14 23:22:19] - context.py:87 - Setting work directory to `d:\\workspace\\CCNUACM_DataMocker\\examples`.\n",
      "[INFO] [2024-04-14 23:22:19] - context.py:112 - Setting CXX to `D:/mingw/bin/g++.exe`.\n",
      "[INFO] [2024-04-14 23:22:19] - context.py:119 - compiler version: 11.2.0\n",
      "[INFO] [2024-04-14 23:22:19] - __init__.py:19 - Setting compiler path to `D:/mingw/bin/g++.exe`\n"
     ]
    }
   ],
   "source": [
    "dm.set_seed(0)\n",
    "dm.set_work_dir(\".\")\n",
    "dm.set_compiler(\"D:/mingw/bin/g++.exe\")"
   ]
  },
  {
   "cell_type": "code",
   "execution_count": 3,
   "metadata": {},
   "outputs": [],
   "source": [
    "import os\n",
    "os.makedirs(\"./std\", exist_ok=True)"
   ]
  },
  {
   "cell_type": "code",
   "execution_count": 4,
   "metadata": {
    "collapsed": false
   },
   "outputs": [
    {
     "name": "stdout",
     "output_type": "stream",
     "text": [
      "Overwriting ./std/APlusB.cpp\n"
     ]
    }
   ],
   "source": [
    "%%file ./std/APlusB.cpp\n",
    "#include <iostream>\n",
    "\n",
    "int32_t main() {\n",
    "  int64_t T;\n",
    "  std::cin >> T;\n",
    "  while (T--) {\n",
    "    int64_t a, b;\n",
    "    std::cin >> a >> b;\n",
    "    std::cout << a + b << '\\n';\n",
    "  }\n",
    "  return 0;\n",
    "}"
   ]
  },
  {
   "cell_type": "code",
   "execution_count": 5,
   "metadata": {},
   "outputs": [],
   "source": [
    "ds = DataSet(name=\"APlusB\", std_path=\"./std/APlusB.cpp\")\n",
    "\n",
    "ds.add(\n",
    "    RandomInt(low=1, high=100)\n",
    "    .repeat(times=2, sep=\" \")\n",
    "    .repeat(times=10, sep=\"\\n\", show_times=True, h_sep=\"\\n\"),\n",
    "    reputation=2\n",
    ")\n",
    "\n",
    "ds.add(\n",
    "    RandomInt(low=1, high=1_000_000_000_000_000_000)\n",
    "    .repeat(times=2, sep=\" \")\n",
    "    .repeat(times=10, sep=\"\\n\", show_times=True, h_sep=\"\\n\"),\n",
    "    reputation=3\n",
    ")"
   ]
  },
  {
   "cell_type": "code",
   "execution_count": 6,
   "metadata": {},
   "outputs": [
    {
     "name": "stdout",
     "output_type": "stream",
     "text": [
      "DataSet: APlusB, brief:\n",
      "\n",
      "Case #1:\n",
      "10\n",
      "45 48\n",
      "65 68\n",
      "68 10\n",
      "84 22\n",
      "37 88\n",
      "...\n",
      "\n",
      "Case #2:\n",
      "10\n",
      "309407270993968601 482617814000913805\n",
      "155718585443435202 769691016611121704\n",
      "533017224590379183 102279150283098962\n",
      "933343147730747930 157462491887016009\n",
      "454330340663531413 372963635737465809\n",
      "...\n"
     ]
    }
   ],
   "source": [
    "ds.show()"
   ]
  },
  {
   "cell_type": "code",
   "execution_count": 7,
   "metadata": {},
   "outputs": [
    {
     "name": "stdout",
     "output_type": "stream",
     "text": [
      "[INFO] [2024-04-14 23:22:19] - dataset.py:81 - Compiling `d:\\workspace\\CCNUACM_DataMocker\\examples\\std\\APlusB.cpp` with command: `D:/mingw/bin/g++.exe -o d:\\workspace\\CCNUACM_DataMocker\\examples\\exec\\APlusB.exe -O2 -std=c++17  d:\\workspace\\CCNUACM_DataMocker\\examples\\std\\APlusB.cpp`.\n",
      "[INFO] [2024-04-14 23:22:19] - dataset.py:93 - Compiling `d:\\workspace\\CCNUACM_DataMocker\\examples\\std\\APlusB.cpp` succeed.\n",
      "[INFO] [2024-04-14 23:22:19] - context.py:129 - Clearing directory `d:\\workspace\\CCNUACM_DataMocker\\examples\\tmp\\APlusB`.\n",
      "[INFO] [2024-04-14 23:22:19] - dataset.py:99 - Start generating cases...\n"
     ]
    },
    {
     "name": "stderr",
     "output_type": "stream",
     "text": [
      "Generating case #2: 100%|██████████| 2/2 [00:00<00:00, 37.02it/s]"
     ]
    },
    {
     "name": "stdout",
     "output_type": "stream",
     "text": [
      "[INFO] [2024-04-14 23:22:19] - dataset.py:126 - All cases generated. Start zipping `APlusB.zip`...\n",
      "[INFO] [2024-04-14 23:22:19] - dataset.py:140 - All cases zipped, result: `d:\\workspace\\CCNUACM_DataMocker\\examples\\zip\\APlusB.zip`. 2 cases, 4 files in total.\n"
     ]
    },
    {
     "name": "stderr",
     "output_type": "stream",
     "text": [
      "\n"
     ]
    }
   ],
   "source": [
    "ds.run()"
   ]
  }
 ],
 "metadata": {
  "kernelspec": {
   "display_name": "Python 3 (ipykernel)",
   "language": "python",
   "name": "python3"
  },
  "language_info": {
   "codemirror_mode": {
    "name": "ipython",
    "version": 3
   },
   "file_extension": ".py",
   "mimetype": "text/x-python",
   "name": "python",
   "nbconvert_exporter": "python",
   "pygments_lexer": "ipython3",
   "version": "3.10.4"
  }
 },
 "nbformat": 4,
 "nbformat_minor": 4
}
