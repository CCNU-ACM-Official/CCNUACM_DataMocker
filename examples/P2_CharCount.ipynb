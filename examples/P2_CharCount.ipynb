{
 "cells": [
  {
   "cell_type": "code",
   "execution_count": 1,
   "metadata": {
    "ExecuteTime": {
     "end_time": "2024-04-14T20:58:50.484417Z",
     "start_time": "2024-04-14T20:58:50.412305Z"
    }
   },
   "outputs": [],
   "source": [
    "import ccnuacm_datamocker as dm\n",
    "from ccnuacm_datamocker.data_model import *"
   ]
  },
  {
   "cell_type": "code",
   "execution_count": 2,
   "metadata": {
    "ExecuteTime": {
     "end_time": "2024-04-14T20:58:50.750595Z",
     "start_time": "2024-04-14T20:58:50.726077Z"
    },
    "collapsed": false,
    "jupyter": {
     "outputs_hidden": false
    }
   },
   "outputs": [
    {
     "name": "stdout",
     "output_type": "stream",
     "text": [
      "[INFO] [2024-04-14 23:21:43] - __init__.py:8 - Setting random seed to `0`\n",
      "[INFO] [2024-04-14 23:21:43] - context.py:87 - Setting work directory to `d:\\workspace\\CCNUACM_DataMocker\\examples`.\n",
      "[INFO] [2024-04-14 23:21:43] - context.py:112 - Setting CXX to `D:/mingw/bin/g++.exe`.\n",
      "[INFO] [2024-04-14 23:21:43] - context.py:119 - compiler version: 11.2.0\n",
      "[INFO] [2024-04-14 23:21:43] - __init__.py:19 - Setting compiler path to `D:/mingw/bin/g++.exe`\n"
     ]
    }
   ],
   "source": [
    "dm.set_seed(0)\n",
    "dm.set_work_dir(\".\")\n",
    "dm.set_compiler(\"D:/mingw/bin/g++.exe\")"
   ]
  },
  {
   "cell_type": "code",
   "execution_count": 3,
   "metadata": {},
   "outputs": [],
   "source": [
    "import os\n",
    "os.makedirs(\"./std\", exist_ok=True)"
   ]
  },
  {
   "cell_type": "code",
   "execution_count": 4,
   "metadata": {
    "collapsed": false
   },
   "outputs": [
    {
     "name": "stdout",
     "output_type": "stream",
     "text": [
      "Overwriting ./std/CharCount.cpp\n"
     ]
    }
   ],
   "source": [
    "%%file ./std/CharCount.cpp\n",
    "#include <iostream>\n",
    "#include <map>\n",
    "\n",
    "int32_t main() {\n",
    "  int64_t T;\n",
    "  std::cin >> T;\n",
    "  while (T--) {\n",
    "    int64_t n;\n",
    "    std::cin >> n;\n",
    "    std::string s;\n",
    "    std::cin >> s;\n",
    "    std::map<char, int64_t> counter;\n",
    "    for (auto x: s) {\n",
    "      counter[x] += 1;\n",
    "    }\n",
    "    std::cout << counter.size() << '\\n';\n",
    "    for (auto [k, v]: counter) {\n",
    "      std::cout << k << \" \" << v << '\\n';\n",
    "    }\n",
    "  }\n",
    "  return 0;\n",
    "}"
   ]
  },
  {
   "cell_type": "code",
   "execution_count": 5,
   "metadata": {},
   "outputs": [],
   "source": [
    "ds = DataSet(name=\"CharCount\", std_path=\"./std/CharCount.cpp\")\n",
    "\n",
    "ds.add(\n",
    "    LowercaseCharSet()\n",
    "    .repeat(times=RandomInt(1, 10), sep=\"\", show_times=True, h_sep=\" \")\n",
    "    .repeat(times=RandomInt(2, 8), sep=\"\\n\", show_times=True, h_sep=\"\\n\"),\n",
    "    reputation=2\n",
    ")\n",
    "\n",
    "ds.add(\n",
    "    (LowercaseCharSet() | UppercaseCharSet())\n",
    "    .repeat(times=RandomInt(10, 20), sep=\"\", show_times=True, h_sep=\" \")\n",
    "    .repeat(times=RandomInt(4, 10), sep=\"\\n\", show_times=True, h_sep=\"\\n\"),\n",
    "    reputation=2\n",
    ")\n",
    "\n",
    "ds.add(\n",
    "    (LowercaseCharSet() | UppercaseCharSet() | DigitCharSet() | BinaryCharSet() | ValueSet(*\"!@#$%^&*()_+-=\"))\n",
    "    .repeat(times=RandomInt(30, 50), sep=\"\", show_times=True, h_sep=\" \")\n",
    "    .repeat(times=RandomInt(10, 20), sep=\"\\n\", show_times=True, h_sep=\"\\n\"),\n",
    "    reputation=2\n",
    ")"
   ]
  },
  {
   "cell_type": "code",
   "execution_count": 6,
   "metadata": {},
   "outputs": [
    {
     "name": "stdout",
     "output_type": "stream",
     "text": [
      "DataSet: CharCount, brief:\n",
      "\n",
      "Case #1:\n",
      "6\n",
      "6 addhjt\n",
      "6 sexgyy\n",
      "2 gh\n",
      "8 oyrfznij\n",
      "5 tqtfp\n",
      "...\n",
      "\n",
      "Case #2:\n",
      "4\n",
      "12 jYxzdTTOngBJ\n",
      "19 gfKXjLyciAAkFmoRPEp\n",
      "18 BBnpjmLuSbAOjMqULE\n",
      "16 EvDMkoOPUjXPNVwx\n",
      "\n",
      "Case #3:\n",
      "15\n",
      "39 Not!aOM^%U@x!0ViBj$m...\n",
      "33 rY=aF4TipO0V1$bKe!Q9...\n",
      "44 UgkIC$%3Sw9wEqcrl4&r...\n",
      "43 1zg6CH@DklLKuJ3vgCT8...\n",
      "38 e1Q#WCr%NltVK10ePG$F...\n",
      "...\n"
     ]
    }
   ],
   "source": [
    "ds.show()"
   ]
  },
  {
   "cell_type": "code",
   "execution_count": 7,
   "metadata": {},
   "outputs": [
    {
     "name": "stdout",
     "output_type": "stream",
     "text": [
      "[INFO] [2024-04-14 23:21:43] - dataset.py:81 - Compiling `d:\\workspace\\CCNUACM_DataMocker\\examples\\std\\CharCount.cpp` with command: `D:/mingw/bin/g++.exe -o d:\\workspace\\CCNUACM_DataMocker\\examples\\exec\\CharCount.exe -O2 -std=c++17  d:\\workspace\\CCNUACM_DataMocker\\examples\\std\\CharCount.cpp`.\n",
      "[INFO] [2024-04-14 23:21:44] - dataset.py:93 - Compiling `d:\\workspace\\CCNUACM_DataMocker\\examples\\std\\CharCount.cpp` succeed.\n",
      "[INFO] [2024-04-14 23:21:44] - context.py:129 - Clearing directory `d:\\workspace\\CCNUACM_DataMocker\\examples\\tmp\\CharCount`.\n",
      "[INFO] [2024-04-14 23:21:44] - dataset.py:99 - Start generating cases...\n"
     ]
    },
    {
     "name": "stderr",
     "output_type": "stream",
     "text": [
      "Generating case #3: 100%|██████████| 3/3 [00:00<00:00, 48.19it/s]"
     ]
    },
    {
     "name": "stdout",
     "output_type": "stream",
     "text": [
      "[INFO] [2024-04-14 23:21:44] - dataset.py:126 - All cases generated. Start zipping `CharCount.zip`...\n",
      "[INFO] [2024-04-14 23:21:44] - dataset.py:140 - All cases zipped, result: `d:\\workspace\\CCNUACM_DataMocker\\examples\\zip\\CharCount.zip`. 3 cases, 6 files in total.\n"
     ]
    },
    {
     "name": "stderr",
     "output_type": "stream",
     "text": [
      "\n"
     ]
    }
   ],
   "source": [
    "ds.run()"
   ]
  }
 ],
 "metadata": {
  "kernelspec": {
   "display_name": "Python 3 (ipykernel)",
   "language": "python",
   "name": "python3"
  },
  "language_info": {
   "codemirror_mode": {
    "name": "ipython",
    "version": 3
   },
   "file_extension": ".py",
   "mimetype": "text/x-python",
   "name": "python",
   "nbconvert_exporter": "python",
   "pygments_lexer": "ipython3",
   "version": "3.10.4"
  }
 },
 "nbformat": 4,
 "nbformat_minor": 4
}
